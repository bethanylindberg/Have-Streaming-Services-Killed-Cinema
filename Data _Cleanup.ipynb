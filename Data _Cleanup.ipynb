{
 "cells": [
  {
   "cell_type": "code",
   "execution_count": 1,
   "metadata": {},
   "outputs": [],
   "source": [
    "import pandas as pd\n",
    "import numpy as np\n",
    "from pandas import Series, DataFrame\n",
    "import csv\n",
    "import requests\n",
    "from config import api_key_omdb2\n",
    "import time"
   ]
  },
  {
   "cell_type": "code",
   "execution_count": 2,
   "metadata": {},
   "outputs": [
    {
     "data": {
      "text/plain": [
       "45843"
      ]
     },
     "execution_count": 2,
     "metadata": {},
     "output_type": "execute_result"
    }
   ],
   "source": [
    "'''\n",
    "#Load in csv with IMBD ids found on Kaggle\n",
    "#(https://www.kaggle.com/rounakbanik/the-movies-dataset#links.csv)\n",
    "omdb_link_file = pd.read_csv('.\\\\raw_data\\\\links.csv')\n",
    "omdb_link_data = pd.DataFrame(omdb_link_file)\n",
    "\n",
    "#Add leading zeros and tt to the IMBD id column\n",
    "omdb_link_data['imdbId'] = omdb_link_data['imdbId'].apply(lambda x: 'tt{0:0>7}'.format(x))\n",
    "\n",
    "#Convert omdb column to list\n",
    "omdb_id_list = omdb_link_data['imdbId'].tolist()\n",
    "\n",
    "len(omdb_id_list)\n",
    "'''"
   ]
  },
  {
   "cell_type": "code",
   "execution_count": 6,
   "metadata": {},
   "outputs": [
    {
     "name": "stdout",
     "output_type": "stream",
     "text": [
      "skipping tt1628842\n",
      "7644.897067070007 seconds elapsed, 1 record(s) not found\n"
     ]
    }
   ],
   "source": [
    "'''\n",
    "API call, only need to run once\n",
    "url = \"http://private.omdbapi.com/\"\n",
    "params = {\"apikey\":api_key_omdb2}\n",
    "not_found = []\n",
    "\n",
    "counter = 0\n",
    "start_time = time.time()\n",
    "for x in range (len(omdb_id_list)):\n",
    "\n",
    "    movieid = omdb_id_list[x]\n",
    "    params[\"i\"] = movieid\n",
    "    \n",
    "    response = requests.get(url,params=params).json()\n",
    "    try:\n",
    "        # assemble url and make API request\n",
    "        omdb_link_data.loc[x,'Title'] = response.get(\"Title\",'')\n",
    "        omdb_link_data.loc[x,'Year'] = response.get(\"Year\",'')\n",
    "        omdb_link_data.loc[x,'Released'] = response.get(\"Released\",'')\n",
    "        omdb_link_data.loc[x,'Runtime'] = response.get(\"Runtime\",'')\n",
    "        omdb_link_data.loc[x,'Genre'] = response.get(\"Genre\",'')\n",
    "        omdb_link_data.loc[x,'Director'] = response.get(\"Director\",'')\n",
    "        omdb_link_data.loc[x,'Writer'] = response.get(\"Writer\",'')\n",
    "        omdb_link_data.loc[x,'Actors'] = response.get(\"Actors\",'')\n",
    "        omdb_link_data.loc[x,'Plot'] = response.get(\"Plot\",'')\n",
    "        omdb_link_data.loc[x,'Country'] = response.get(\"Country\",'')\n",
    "        omdb_link_data.loc[x,'Awards'] = response.get(\"Awards\",'')\n",
    "        omdb_link_data.loc[x,'RT_Ratings'] = response[\"Ratings\"][1].get(\"Value\",'')\n",
    "        omdb_link_data.loc[x,'Metascore'] = response.get(\"Metascore\",'')\n",
    "        omdb_link_data.loc[x,'imdbRating'] = response.get(\"imdbRating\",'')\n",
    "        omdb_link_data.loc[x,'imdbVotes'] = response.get(\"imdbVotes\",'')\n",
    "        omdb_link_data.loc[x,'imdbID'] = response.get(\"imdbID\",'')\n",
    "        omdb_link_data.loc[x,'Type'] = response.get(\"Type\",'')\n",
    "        omdb_link_data.loc[x,'BoxOffice'] = response.get(\"BoxOffice\",'')\n",
    "        omdb_link_data.loc[x,'Production'] = response.get(\"Production\",'')\n",
    "        \n",
    "    except (KeyError, ValueError) as e:\n",
    "        print(f\"skipping {movieid}\")\n",
    "        not_found.append(movieid)\n",
    "    except IndexError:\n",
    "        omdb_link_data.loc[x,'Title'] = response.get(\"Title\",'')\n",
    "        omdb_link_data.loc[x,'Year'] = response.get(\"Year\",'')\n",
    "        omdb_link_data.loc[x,'Released'] = response.get(\"Released\",'')\n",
    "        omdb_link_data.loc[x,'Runtime'] = response.get(\"Runtime\",'')\n",
    "        omdb_link_data.loc[x,'Genre'] = response.get(\"Genre\",'')\n",
    "        omdb_link_data.loc[x,'Director'] = response.get(\"Director\",'')\n",
    "        omdb_link_data.loc[x,'Writer'] = response.get(\"Writer\",'')\n",
    "        omdb_link_data.loc[x,'Actors'] = response.get(\"Actors\",'')\n",
    "        omdb_link_data.loc[x,'Plot'] = response.get(\"Plot\",'')\n",
    "        omdb_link_data.loc[x,'Country'] = response.get(\"Country\",'')\n",
    "        omdb_link_data.loc[x,'Awards'] = response.get(\"Awards\",'')\n",
    "        omdb_link_data.loc[x,'Metascore'] = response.get(\"Metascore\",'')\n",
    "        omdb_link_data.loc[x,'imdbRating'] = response.get(\"imdbRating\",'')\n",
    "        omdb_link_data.loc[x,'imdbVotes'] = response.get(\"imdbVotes\",'')\n",
    "        omdb_link_data.loc[x,'imdbID'] = response.get(\"imdbID\",'')\n",
    "        omdb_link_data.loc[x,'Type'] = response.get(\"Type\",'')\n",
    "        omdb_link_data.loc[x,'BoxOffice'] = response.get(\"BoxOffice\",'')\n",
    "        omdb_link_data.loc[x,'Production'] = response.get(\"Production\",'')\n",
    "            \n",
    "end_time = time.time()\n",
    "elapsed = end_time - start_time\n",
    "print(f\"{elapsed} seconds elapsed, {len(not_found)} record(s) not found\")\n",
    "omdb_link_data.to_csv('.\\\\raw_data\\\\raw_omdb.csv', encoding=\"utf-8\", index=False)\n",
    "'''"
   ]
  },
  {
   "cell_type": "code",
   "execution_count": 2,
   "metadata": {},
   "outputs": [],
   "source": [
    "omdb_file = pd.read_csv('.\\\\raw_data\\\\raw_omdb.csv')\n",
    "omdb_data = pd.DataFrame(omdb_file)"
   ]
  },
  {
   "cell_type": "code",
   "execution_count": 3,
   "metadata": {},
   "outputs": [
    {
     "name": "stdout",
     "output_type": "stream",
     "text": [
      "<class 'pandas.core.frame.DataFrame'>\n",
      "RangeIndex: 45843 entries, 0 to 45842\n",
      "Data columns (total 22 columns):\n",
      "movieId       45843 non-null int64\n",
      "imdbId        45843 non-null object\n",
      "tmdbId        45624 non-null float64\n",
      "Title         45842 non-null object\n",
      "Year          45842 non-null object\n",
      "Released      44060 non-null object\n",
      "Runtime       45338 non-null object\n",
      "Genre         45650 non-null object\n",
      "Director      45254 non-null object\n",
      "Writer        42894 non-null object\n",
      "Actors        44998 non-null object\n",
      "Plot          44213 non-null object\n",
      "Country       45728 non-null object\n",
      "Awards        25722 non-null object\n",
      "RT_Ratings    19457 non-null object\n",
      "Metascore     11586 non-null float64\n",
      "imdbRating    45712 non-null float64\n",
      "imdbVotes     45711 non-null object\n",
      "imdbID        45842 non-null object\n",
      "Type          45842 non-null object\n",
      "BoxOffice     5433 non-null object\n",
      "Production    30586 non-null object\n",
      "dtypes: float64(3), int64(1), object(18)\n",
      "memory usage: 7.7+ MB\n"
     ]
    }
   ],
   "source": [
    "omdb_data.info()"
   ]
  },
  {
   "cell_type": "code",
   "execution_count": 4,
   "metadata": {},
   "outputs": [],
   "source": [
    "def ratings_parse(x):\n",
    "    if '%' in x:\n",
    "        return x.split('%')[0]\n",
    "    elif '/' in x:\n",
    "        return x.split('/')[0]\n",
    "    elif x is None:\n",
    "        return None"
   ]
  },
  {
   "cell_type": "code",
   "execution_count": 5,
   "metadata": {},
   "outputs": [],
   "source": [
    "#Filter out any series or episode\n",
    "omdb_movie = omdb_data[omdb_data[\"Type\"]=='movie']"
   ]
  },
  {
   "cell_type": "code",
   "execution_count": 6,
   "metadata": {},
   "outputs": [],
   "source": [
    "#Filter out titles that contain #DUPE#\n",
    "omdb_movies = omdb_movie[omdb_movie.Title != '#DUPE#']"
   ]
  },
  {
   "cell_type": "code",
   "execution_count": 7,
   "metadata": {},
   "outputs": [],
   "source": [
    "#Retain only needed column for movie analysis\n",
    "mod_omdb_movie_df = omdb_movies[['Title','Year','Genre','Country','RT_Ratings','Metascore','imdbRating','imdbVotes','Type','Production']]"
   ]
  },
  {
   "cell_type": "code",
   "execution_count": 8,
   "metadata": {},
   "outputs": [],
   "source": [
    "#Filter out movies from before 1970\n",
    "mod_omdb_movie_df= mod_omdb_movie_df[mod_omdb_movie_df[\"Year\"] >= '1970']"
   ]
  },
  {
   "cell_type": "code",
   "execution_count": 9,
   "metadata": {},
   "outputs": [],
   "source": [
    "mod_omdb_movie_rt_ratings= mod_omdb_movie_df[mod_omdb_movie_df[\"RT_Ratings\"].notnull()]"
   ]
  },
  {
   "cell_type": "code",
   "execution_count": 10,
   "metadata": {},
   "outputs": [
    {
     "name": "stderr",
     "output_type": "stream",
     "text": [
      "C:\\Users\\bethf\\Anaconda3\\lib\\site-packages\\ipykernel_launcher.py:2: SettingWithCopyWarning: \n",
      "A value is trying to be set on a copy of a slice from a DataFrame.\n",
      "Try using .loc[row_indexer,col_indexer] = value instead\n",
      "\n",
      "See the caveats in the documentation: http://pandas.pydata.org/pandas-docs/stable/indexing.html#indexing-view-versus-copy\n",
      "  \n"
     ]
    }
   ],
   "source": [
    "#Normalize Rotten Tomatoes ratings\n",
    "mod_omdb_movie_rt_ratings[\"RT_Ratings2\"] = mod_omdb_movie_rt_ratings[\"RT_Ratings\"].apply(ratings_parse)"
   ]
  },
  {
   "cell_type": "code",
   "execution_count": 11,
   "metadata": {},
   "outputs": [
    {
     "name": "stderr",
     "output_type": "stream",
     "text": [
      "C:\\Users\\bethf\\Anaconda3\\lib\\site-packages\\ipykernel_launcher.py:2: SettingWithCopyWarning: \n",
      "A value is trying to be set on a copy of a slice from a DataFrame.\n",
      "Try using .loc[row_indexer,col_indexer] = value instead\n",
      "\n",
      "See the caveats in the documentation: http://pandas.pydata.org/pandas-docs/stable/indexing.html#indexing-view-versus-copy\n",
      "  \n"
     ]
    }
   ],
   "source": [
    "#Normalize imdb Ratings\n",
    "mod_omdb_movie_rt_ratings[\"imdbRating2\"] = mod_omdb_movie_rt_ratings[\"imdbRating\"].multiply(10)"
   ]
  },
  {
   "cell_type": "code",
   "execution_count": 12,
   "metadata": {},
   "outputs": [],
   "source": [
    "#Save as movies CSV\n",
    "mod_omdb_movie_rt_ratings.to_csv('.\\\\cleaned_data\\\\omdb_movies_cleaned.csv', encoding=\"utf-8\", index=False)"
   ]
  },
  {
   "cell_type": "code",
   "execution_count": null,
   "metadata": {},
   "outputs": [],
   "source": []
  },
  {
   "cell_type": "code",
   "execution_count": null,
   "metadata": {},
   "outputs": [],
   "source": []
  }
 ],
 "metadata": {
  "kernelspec": {
   "display_name": "Python 3",
   "language": "python",
   "name": "python3"
  },
  "language_info": {
   "codemirror_mode": {
    "name": "ipython",
    "version": 3
   },
   "file_extension": ".py",
   "mimetype": "text/x-python",
   "name": "python",
   "nbconvert_exporter": "python",
   "pygments_lexer": "ipython3",
   "version": "3.7.1"
  }
 },
 "nbformat": 4,
 "nbformat_minor": 2
}
